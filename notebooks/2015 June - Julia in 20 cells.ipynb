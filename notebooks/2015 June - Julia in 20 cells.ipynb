{
 "cells": [
  {
   "cell_type": "markdown",
   "metadata": {},
   "source": [
    "# Basics"
   ]
  },
  {
   "cell_type": "code",
   "execution_count": 49,
   "metadata": {
    "collapsed": false
   },
   "outputs": [
    {
     "data": {
      "text/plain": [
       "1443"
      ]
     },
     "execution_count": 49,
     "metadata": {},
     "output_type": "execute_result"
    }
   ],
   "source": [
    "1 + 1442"
   ]
  },
  {
   "cell_type": "code",
   "execution_count": 50,
   "metadata": {
    "collapsed": false
   },
   "outputs": [
    {
     "data": {
      "text/plain": [
       "2x1 Array{Float64,2}:\n",
       " 1.85021\n",
       " 1.24443"
      ]
     },
     "execution_count": 50,
     "metadata": {},
     "output_type": "execute_result"
    }
   ],
   "source": [
    "rand(2,3) * ones(3,1)"
   ]
  },
  {
   "cell_type": "code",
   "execution_count": 4,
   "metadata": {
    "collapsed": false
   },
   "outputs": [
    {
     "data": {
      "image/png": "[encoded data removed]",
      "text/plain": [
       "PyPlot.Figure(PyObject <matplotlib.figure.Figure object at 0x3229f7b10>)"
      ]
     },
     "metadata": {},
     "output_type": "display_data"
    },
    {
     "data": {
      "text/plain": [
       "1-element Array{Any,1}:\n",
       " PyObject <matplotlib.lines.Line2D object at 0x323b29110>"
      ]
     },
     "execution_count": 4,
     "metadata": {},
     "output_type": "execute_result"
    }
   ],
   "source": [
    "using PyPlot\n",
    "plot(a)"
   ]
  },
  {
   "cell_type": "markdown",
   "metadata": {},
   "source": [
    "# Control flow - the usual suspects"
   ]
  },
  {
   "cell_type": "code",
   "execution_count": 64,
   "metadata": {
    "collapsed": false
   },
   "outputs": [
    {
     "data": {
      "text/plain": [
       "1"
      ]
     },
     "execution_count": 64,
     "metadata": {},
     "output_type": "execute_result"
    }
   ],
   "source": [
    "x = false\n",
    "x = 1"
   ]
  },
  {
   "cell_type": "code",
   "execution_count": 5,
   "metadata": {
    "collapsed": false
   },
   "outputs": [
    {
     "name": "stdout",
     "output_type": "stream",
     "text": [
      "but now!\n",
      "Got error: ErrorException(\"Brrr\")\n"
     ]
    }
   ],
   "source": [
    "if false\n",
    "    println(\"jup!\")\n",
    "elseif 1+1 == 2\n",
    "    println(\"but now!\")\n",
    "else\n",
    "    println(\".\")\n",
    "end\n",
    "\n",
    "while rand()<0.99 && x > 5\n",
    "end\n",
    "\n",
    "try\n",
    "    error(\"Brrr\")\n",
    "catch e\n",
    "    println(\"Got error: $e\")\n",
    "end"
   ]
  },
  {
   "cell_type": "code",
   "execution_count": 6,
   "metadata": {
    "collapsed": false
   },
   "outputs": [
    {
     "name": "stdout",
     "output_type": "stream",
     "text": [
      "x = 1\n",
      "x = \"a\"\n"
     ]
    }
   ],
   "source": [
    "for x = 10:-0.1:1\n",
    "end\n",
    "\n",
    "for x in 1:10\n",
    "end\n",
    "\n",
    "for x in [1, \"a\"]\n",
    "    @show x\n",
    "end"
   ]
  },
  {
   "cell_type": "code",
   "execution_count": 65,
   "metadata": {
    "collapsed": false
   },
   "outputs": [
    {
     "data": {
      "text/plain": [
       "3x5 Array{Int64,2}:\n",
       " 2  3  4  5  6\n",
       " 3  4  5  6  7\n",
       " 4  5  6  7  8"
      ]
     },
     "execution_count": 65,
     "metadata": {},
     "output_type": "execute_result"
    }
   ],
   "source": [
    "a = [x+y for x in 1:3, y in 1:5]"
   ]
  },
  {
   "cell_type": "code",
   "execution_count": 70,
   "metadata": {
    "collapsed": false
   },
   "outputs": [
    {
     "data": {
      "text/plain": [
       "3-element Array{Int64,1}:\n",
       " 5\n",
       " 7\n",
       " 9"
      ]
     },
     "execution_count": 70,
     "metadata": {},
     "output_type": "execute_result"
    }
   ],
   "source": [
    "[x[1]+x[2] for x in zip(1:3,4:6)]"
   ]
  },
  {
   "cell_type": "markdown",
   "metadata": {},
   "source": [
    "# Functions / Multiple dispatch"
   ]
  },
  {
   "cell_type": "code",
   "execution_count": 1,
   "metadata": {
    "collapsed": false
   },
   "outputs": [
    {
     "data": {
      "text/plain": [
       "f (generic function with 1 method)"
      ]
     },
     "execution_count": 1,
     "metadata": {},
     "output_type": "execute_result"
    }
   ],
   "source": [
    "function f(a,b)\n",
    "    return a*b\n",
    "end\n",
    "\n",
    "f(a,b) = a*b"
   ]
  },
  {
   "cell_type": "code",
   "execution_count": 2,
   "metadata": {
    "collapsed": false
   },
   "outputs": [
    {
     "data": {
      "text/plain": [
       "6"
      ]
     },
     "execution_count": 2,
     "metadata": {},
     "output_type": "execute_result"
    }
   ],
   "source": [
    "f(2,3)"
   ]
  },
  {
   "cell_type": "code",
   "execution_count": 3,
   "metadata": {
    "collapsed": false
   },
   "outputs": [
    {
     "data": {
      "text/html": [
       "1 method for generic function <b>f</b>:<ul><li> f(a, b) at In[1]:5</ul>"
      ],
      "text/plain": [
       "# 1 method for generic function \"f\":\n",
       "f(a, b) at In[1]:5"
      ]
     },
     "execution_count": 3,
     "metadata": {},
     "output_type": "execute_result"
    }
   ],
   "source": [
    "methods(f)"
   ]
  },
  {
   "cell_type": "code",
   "execution_count": 4,
   "metadata": {
    "collapsed": false
   },
   "outputs": [
    {
     "data": {
      "text/plain": [
       "\"abcabcabc\""
      ]
     },
     "execution_count": 4,
     "metadata": {},
     "output_type": "execute_result"
    }
   ],
   "source": [
    "f(a::String,b) = repeat(a,b)\n",
    "f(\"abc\",3)"
   ]
  },
  {
   "cell_type": "code",
   "execution_count": 5,
   "metadata": {
    "collapsed": false
   },
   "outputs": [
    {
     "data": {
      "text/html": [
       "2 methods for generic function <b>f</b>:<ul><li> f(a::<b>AbstractString</b>, b) at In[4]:1<li> f(a, b) at In[1]:5</ul>"
      ],
      "text/plain": [
       "# 2 methods for generic function \"f\":\n",
       "f(a::AbstractString, b) at In[4]:1\n",
       "f(a, b) at In[1]:5"
      ]
     },
     "execution_count": 5,
     "metadata": {},
     "output_type": "execute_result"
    }
   ],
   "source": [
    "methods(f)"
   ]
  },
  {
   "cell_type": "code",
   "execution_count": 79,
   "metadata": {
    "collapsed": false
   },
   "outputs": [
    {
     "data": {
      "text/plain": [
       "g (generic function with 1 method)"
      ]
     },
     "execution_count": 79,
     "metadata": {},
     "output_type": "execute_result"
    }
   ],
   "source": [
    "function g(a::Float64, b::Int)\n",
    "    println(\"with a asdf!\")\n",
    "    a*b*10\n",
    "end"
   ]
  },
  {
   "cell_type": "code",
   "execution_count": 86,
   "metadata": {
    "collapsed": false
   },
   "outputs": [
    {
     "data": {
      "text/plain": [
       "9"
      ]
     },
     "execution_count": 86,
     "metadata": {},
     "output_type": "execute_result"
    }
   ],
   "source": [
    "func([obj, ] param1, param2)\n",
    "    obj.a = 1\n",
    "end\n",
    "obj.func(1, 2)\n",
    "\n",
    "show(a::Class1,b,c)\n",
    "show(a::Class2,b)\n",
    "\n"
   ]
  },
  {
   "cell_type": "code",
   "execution_count": 8,
   "metadata": {
    "collapsed": false
   },
   "outputs": [
    {
     "data": {
      "text/plain": [
       "f (generic function with 4 methods)"
      ]
     },
     "execution_count": 8,
     "metadata": {},
     "output_type": "execute_result"
    }
   ],
   "source": [
    "function f{T<:FloatingPoint}(a::T, b::T)\n",
    "    println(\"with 2 floats\")\n",
    "    a*b\n",
    "end"
   ]
  },
  {
   "cell_type": "code",
   "execution_count": 10,
   "metadata": {
    "collapsed": false
   },
   "outputs": [
    {
     "name": "stdout",
     "output_type": "stream",
     "text": [
      "with 2 floats\n"
     ]
    },
    {
     "data": {
      "text/plain": [
       "2.4200000000000004"
      ]
     },
     "execution_count": 10,
     "metadata": {},
     "output_type": "execute_result"
    }
   ],
   "source": [
    "f(1.1,2.2)"
   ]
  },
  {
   "cell_type": "code",
   "execution_count": 11,
   "metadata": {
    "collapsed": false
   },
   "outputs": [
    {
     "data": {
      "text/html": [
       "4 methods for generic function <b>f</b>:<ul><li> f(a::<b>AbstractString</b>, b) at In[4]:1<li> f(a::<b>Float64</b>, b::<b>Int64</b>) at In[6]:2<li> f<i>{T<:FloatingPoint}</i>(a::<b>T<:FloatingPoint</b>, b::<b>T<:FloatingPoint</b>) at In[8]:2<li> f(a, b) at In[1]:5</ul>"
      ],
      "text/plain": [
       "# 4 methods for generic function \"f\":\n",
       "f(a::AbstractString, b) at In[4]:1\n",
       "f(a::Float64, b::Int64) at In[6]:2\n",
       "f{T<:FloatingPoint}(a::T<:FloatingPoint, b::T<:FloatingPoint) at In[8]:2\n",
       "f(a, b) at In[1]:5"
      ]
     },
     "execution_count": 11,
     "metadata": {},
     "output_type": "execute_result"
    }
   ],
   "source": [
    "methods(f)"
   ]
  },
  {
   "cell_type": "code",
   "execution_count": null,
   "metadata": {
    "collapsed": true
   },
   "outputs": [],
   "source": []
  },
  {
   "cell_type": "code",
   "execution_count": 12,
   "metadata": {
    "collapsed": false
   },
   "outputs": [
    {
     "data": {
      "text/html": [
       "f(a::<b>AbstractString</b>, b) at In[4]:1"
      ],
      "text/plain": [
       "f(a::AbstractString, b) at In[4]:1"
      ]
     },
     "execution_count": 12,
     "metadata": {},
     "output_type": "execute_result"
    }
   ],
   "source": [
    "@which f(\"asd\",1.2)"
   ]
  },
  {
   "cell_type": "markdown",
   "metadata": {},
   "source": [
    "# Types"
   ]
  },
  {
   "cell_type": "code",
   "execution_count": 16,
   "metadata": {
    "collapsed": false
   },
   "outputs": [
    {
     "data": {
      "text/plain": [
       "StringNumber(\"abc\",1)"
      ]
     },
     "execution_count": 16,
     "metadata": {},
     "output_type": "execute_result"
    }
   ],
   "source": [
    "type StringNumber\n",
    "    a\n",
    "    b\n",
    "end\n",
    "StringNumber(\"abc\",1)"
   ]
  },
  {
   "cell_type": "code",
   "execution_count": 17,
   "metadata": {
    "collapsed": false
   },
   "outputs": [
    {
     "data": {
      "text/plain": [
       "StringNumber(1,1)"
      ]
     },
     "execution_count": 17,
     "metadata": {},
     "output_type": "execute_result"
    }
   ],
   "source": [
    "StringNumber(1,1)"
   ]
  },
  {
   "cell_type": "code",
   "execution_count": 18,
   "metadata": {
    "collapsed": false
   },
   "outputs": [
    {
     "data": {
      "text/plain": [
       "StringNumber2(\"Test\",2)"
      ]
     },
     "execution_count": 18,
     "metadata": {},
     "output_type": "execute_result"
    }
   ],
   "source": [
    "type StringNumber2\n",
    "    a::String\n",
    "    b::Int\n",
    "end\n",
    "StringNumber2(\"Test\",2)"
   ]
  },
  {
   "cell_type": "code",
   "execution_count": 20,
   "metadata": {
    "collapsed": false
   },
   "outputs": [
    {
     "ename": "LoadError",
     "evalue": "LoadError: MethodError: `convert` has no method matching convert(::Type{AbstractString}, ::Int64)\nThis may have arisen from a call to the constructor AbstractString(...),\nsince type constructors fall back to convert methods.\nClosest candidates are:\n  call{T}(::Type{T}, ::Any)\n  convert{T<:AbstractString}(::Type{T<:AbstractString}, !Matched::AbstractArray{Char,1})\n  convert{S<:AbstractString}(::Type{S<:AbstractString}, !Matched::Base.UTF8proc.GraphemeIterator{S<:AbstractString})\n  ...\nwhile loading In[20], in expression starting on line 1",
     "output_type": "error",
     "traceback": [
      "LoadError: MethodError: `convert` has no method matching convert(::Type{AbstractString}, ::Int64)\nThis may have arisen from a call to the constructor AbstractString(...),\nsince type constructors fall back to convert methods.\nClosest candidates are:\n  call{T}(::Type{T}, ::Any)\n  convert{T<:AbstractString}(::Type{T<:AbstractString}, !Matched::AbstractArray{Char,1})\n  convert{S<:AbstractString}(::Type{S<:AbstractString}, !Matched::Base.UTF8proc.GraphemeIterator{S<:AbstractString})\n  ...\nwhile loading In[20], in expression starting on line 1",
      "",
      " in call at no file"
     ]
    }
   ],
   "source": [
    "StringNumber2(1,2)"
   ]
  },
  {
   "cell_type": "code",
   "execution_count": 21,
   "metadata": {
    "collapsed": false
   },
   "outputs": [
    {
     "name": "stdout",
     "output_type": "stream",
     "text": [
      "StringNumber2: Test10\n"
     ]
    }
   ],
   "source": [
    "function f(a::StringNumber2,b)\n",
    "    println(\"StringNumber2: \", a.a, a.b)\n",
    "end\n",
    "x = StringNumber2(\"Test\",10)\n",
    "f(x,123)"
   ]
  },
  {
   "cell_type": "markdown",
   "metadata": {},
   "source": [
    "# Modules / Packages"
   ]
  },
  {
   "cell_type": "code",
   "execution_count": null,
   "metadata": {
    "collapsed": true
   },
   "outputs": [],
   "source": [
    "Pkg.add(\"JSON\")\n",
    "using JSON\n",
    "jsonify(mydata)\n",
    "\n",
    "Pkg.installed()\n",
    "Pkg.remove(\"JSON\")"
   ]
  },
  {
   "cell_type": "markdown",
   "metadata": {},
   "source": [
    "* Available packages: [pkg.julialang.org](pkg.julialang.org)\n",
    "* stored in ~/.julia/v0.3/\n",
    "* Typical structure:\n",
    "\n",
    "\n",
    "    ~/.julia/v0.3/StringNumbers/\n",
    "      README.md \n",
    "      REQUIRE\n",
    "      src/\n",
    "        StringNumber.jl\n",
    "      test/\n",
    "        runtests.jl\n",
    "    \n",
    "\n"
   ]
  },
  {
   "cell_type": "code",
   "execution_count": null,
   "metadata": {
    "collapsed": true
   },
   "outputs": [],
   "source": [
    "module StringNumbers\n",
    "\n",
    "export StringNumber, show\n",
    "\n",
    "type StringNumber{T<:Number}\n",
    "    str::String\n",
    "    num::T\n",
    "end\n",
    "\n",
    "function show(a::StringNumber)\n",
    "    println(\"It's a StringNumber: $(a.str) and $(a.num)\")\n",
    "end\n",
    "\n",
    "end # module"
   ]
  },
  {
   "cell_type": "markdown",
   "metadata": {},
   "source": [
    "# Finding your way around"
   ]
  },
  {
   "cell_type": "markdown",
   "metadata": {},
   "source": [
    "* Documention:\n",
    "  * latest (0.4pre): http://docs.julialang.org/en/latest/\n",
    "  * stable (0.3): http://docs.julialang.org/en/release-0.3/\n",
    "* Mailing lists:\n",
    "  * users: https://groups.google.com/group/julia-users\n",
    "  * devs: https://groups.google.com/group/julia-dev\n",
    "* Issues:\n",
    "  * [Github issues](https://github.com/JuliaLang/julia/issues?q=is%3Aopen+sort%3Aupdated-desc)\n",
    "* Topical overview of packages: https://github.com/svaksha/Julia.jl\n",
    "* Package evaluator: http://pkg.julialang.org/"
   ]
  },
  {
   "cell_type": "markdown",
   "metadata": {},
   "source": [
    "# Code generation"
   ]
  },
  {
   "cell_type": "code",
   "execution_count": 23,
   "metadata": {
    "collapsed": false
   },
   "outputs": [
    {
     "data": {
      "text/plain": [
       "mysum (generic function with 1 method)"
      ]
     },
     "execution_count": 23,
     "metadata": {},
     "output_type": "execute_result"
    }
   ],
   "source": [
    "mysum(a,b) = a+b+1"
   ]
  },
  {
   "cell_type": "code",
   "execution_count": 25,
   "metadata": {
    "collapsed": false
   },
   "outputs": [
    {
     "data": {
      "text/plain": [
       "1-element Array{Any,1}:\n",
       " :($(Expr(:lambda, Any[:a,:b], Any[Any[Any[:a,:Any,0],Any[:b,:Any,0]],Any[],0,Any[]], :(begin  # In[23], line 1:\n",
       "        return a + b + 1\n",
       "    end))))"
      ]
     },
     "execution_count": 25,
     "metadata": {},
     "output_type": "execute_result"
    }
   ],
   "source": [
    "@code_lowered mysum(1,1.5)"
   ]
  },
  {
   "cell_type": "code",
   "execution_count": 27,
   "metadata": {
    "collapsed": false
   },
   "outputs": [
    {
     "data": {
      "text/plain": [
       "1-element Array{Any,1}:\n",
       " :($(Expr(:lambda, Any[:a,:b], Any[Any[Any[:a,Int64,0],Any[:b,Int64,0],Any[symbol(\"##xs#10378\"),Tuple{},0]],Any[],Any[],Any[]], :(begin  # In[23], line 1:\n",
       "        return (top(box))(Int64,(top(add_int))((top(box))(Int64,(top(add_int))(a::Int64,b::Int64)),1))\n",
       "    end::Int64))))"
      ]
     },
     "execution_count": 27,
     "metadata": {},
     "output_type": "execute_result"
    }
   ],
   "source": [
    "@code_typed mysum(1,1.5)"
   ]
  },
  {
   "cell_type": "code",
   "execution_count": 28,
   "metadata": {
    "collapsed": false
   },
   "outputs": [
    {
     "name": "stdout",
     "output_type": "stream",
     "text": [
      "\n",
      "define double @julia_mysum_22677(i64, double) {\n",
      "top:\n",
      "  %2 = sitofp i64 %0 to double\n",
      "  %3 = fadd double %2, %1\n",
      "  %4 = fadd double %3, 1.000000e+00\n",
      "  ret double %4\n",
      "}\n"
     ]
    }
   ],
   "source": [
    "@code_llvm mysum(1,1.5)"
   ]
  },
  {
   "cell_type": "code",
   "execution_count": 29,
   "metadata": {
    "collapsed": false
   },
   "outputs": [
    {
     "name": "stdout",
     "output_type": "stream",
     "text": [
      "\t.section\t__TEXT,__text,regular,pure_instructions\n",
      "Filename: In[23]\n",
      "Source line: 1\n",
      "\tpushq\t%rbp\n",
      "\tmovq\t%rsp, %rbp\n",
      "Source line: 1\n",
      "\tvcvtsi2sdq\t%rdi, %xmm0, %xmm1\n",
      "\tvaddsd\t%xmm0, %xmm1, %xmm0\n",
      "\tmovabsq\t$13199584560, %rax      ## imm = 0x312C1AD30\n",
      "\tvaddsd\t(%rax), %xmm0, %xmm0\n",
      "\tpopq\t%rbp\n",
      "\tret\n"
     ]
    }
   ],
   "source": [
    "@code_native mysum(1,1.5)"
   ]
  },
  {
   "cell_type": "code",
   "execution_count": 30,
   "metadata": {
    "collapsed": false
   },
   "outputs": [
    {
     "name": "stdout",
     "output_type": "stream",
     "text": [
      "Variables:\n",
      "  a::Int64\n",
      "  b::Float64\n",
      "  ##xs#10176::Tuple{}\n",
      "\n",
      "Body:\n",
      "  begin  # In[23], line 1:\n",
      "      return (top(box))(Float64,(top(add_float))((top(box))(Float64,(top(add_float))((top(box))(Float64,(top(sitofp))(Float64,a::Int64)),b::Float64)),(top(box))(Float64,(top(sitofp))(Float64,1))))\n",
      "  end::Float64\n"
     ]
    }
   ],
   "source": [
    "@code_warntype mysum(1,1.5)"
   ]
  },
  {
   "cell_type": "code",
   "execution_count": 106,
   "metadata": {
    "collapsed": false
   },
   "outputs": [
    {
     "name": "stdout",
     "output_type": "stream",
     "text": [
      "   2.425 seconds      (6 allocations: 3815 MB, 11.61% gc time)\n"
     ]
    }
   ],
   "source": [
    "function f(a,b)\n",
    "    r = zero(a)\n",
    "    @inbounds for i = 1:length(a)\n",
    "        r[i] = a[i]+b[i]\n",
    "    end\n",
    "end\n",
    "data = rand(Float32, 1000000000)\n",
    "f(data,data)\n",
    "@time f(data,data)\n"
   ]
  },
  {
   "cell_type": "code",
   "execution_count": 102,
   "metadata": {
    "collapsed": false
   },
   "outputs": [
    {
     "name": "stdout",
     "output_type": "stream",
     "text": [
      "\t.section\t__TEXT,__text,regular,pure_instructions\n",
      "Filename: In[101]\n",
      "Source line: 2\n",
      "\tpushq\t%rbp\n",
      "\tmovq\t%rsp, %rbp\n",
      "Source line: 2\n",
      "\tpushq\t%r14\n",
      "\tpushq\t%rbx\n",
      "\tsubq\t$32, %rsp\n",
      "\tmovq\t$4, -48(%rbp)\n",
      "\tmovabsq\t$jl_pgcstack, %rax\n",
      "\tmovq\t(%rax), %rcx\n",
      "\tmovq\t%rcx, -40(%rbp)\n",
      "\tleaq\t-48(%rbp), %rcx\n",
      "\tmovq\t%rcx, (%rax)\n",
      "\tvxorps\t%xmm0, %xmm0, %xmm0\n",
      "\tvmovups\t%xmm0, -32(%rbp)\n",
      "\tmovq\t(%rsi), %rbx\n",
      "\tmovq\t8(%rsi), %r14\n",
      "Source line: 2\n",
      "\tmovq\t24(%rbx), %rsi\n",
      "\tmovabsq\t$jl_alloc_array_1d, %rax\n",
      "\tmovabsq\t$4380686896, %rcx       ## imm = 0x1051BFA30\n",
      "\tmovq\t%rcx, -24(%rbp)\n",
      "\tmovabsq\t$4380686896, %rdi       ## imm = 0x1051BFA30\n",
      "\tcallq\t*%rax\n",
      "\tmovabsq\t$13194014800, %rcx      ## imm = 0x3126CB050\n",
      "\tmovq\t%rax, -24(%rbp)\n",
      "\tmovq\t%rax, %rdi\n",
      "\tvxorps\t%xmm0, %xmm0, %xmm0\n",
      "\tcallq\t*%rcx\n",
      "\tmovq\t%rax, %rsi\n",
      "\txorl\t%eax, %eax\n",
      "\tmovq\t%rsi, -32(%rbp)\n",
      "Source line: 65\n",
      "\tmovq\t8(%rbx), %rcx\n",
      "\ttestq\t%rcx, %rcx\n",
      "\tcmovnsq\t%rcx, %rax\n",
      "Source line: 67\n",
      "\tcmpq\t$1, %rax\n",
      "\tleaq\t-1(%rax), %rax\n",
      "\tjo\tL534\n",
      "\tleaq\t1(%rax), %rcx\n",
      "\taddq\t$1, %rax\n",
      "\tjo\tL534\n",
      "\ttestq\t%rcx, %rcx\n",
      "\tjle\tL495\n",
      "\tmovabsq\t$-6148914691236517205, %rdx ## imm = 0xAAAAAAAAAAAAAAAB\n",
      "\tmovq\t%rcx, %rax\n",
      "\tmulq\t%rdx\n",
      "\tshrq\t%rdx\n",
      "\tmovabsq\t$9223372036854775800, %rax ## imm = 0x7FFFFFFFFFFFFFF8\n",
      "\tandq\t%rdx, %rax\n",
      "\tleaq\t(%rax,%rax,2), %rax\n",
      "Source line: 4\n",
      "\tmovq\t(%rsi), %r9\n",
      "\tmovq\t(%r14), %r10\n",
      "\tmovq\t(%rbx), %r11\n",
      "\txorl\t%r8d, %r8d\n",
      "\ttestq\t%rax, %rax\n",
      "\tje\tL441\n",
      "\tmovq\t%rcx, %rdi\n",
      "\tsubq\t%rax, %rdi\n",
      "\tmovq\t%rcx, %r8\n",
      "\tsubq\t%rdi, %r8\n",
      "\tsubq\t%rcx, %rdi\n",
      "\txorl\t%ebx, %ebx\n",
      "L253:\tleaq\t(,%rbx,4), %rax\n",
      "\tmovq\t%r10, %rdx\n",
      "\tsubq\t%rax, %rdx\n",
      "\tvmovups\t(%rdx), %xmm2\n",
      "\tvmovups\t16(%rdx), %xmm3\n",
      "\tvmovups\t32(%rdx), %xmm0\n",
      "\tvmovups\t48(%rdx), %xmm1\n",
      "\tvinsertf128\t$1, %xmm3, %ymm2, %ymm2\n",
      "\tmovq\t%r11, %rsi\n",
      "\tsubq\t%rax, %rsi\n",
      "\tvmovups\t(%rsi), %xmm4\n",
      "\tvmovups\t16(%rsi), %xmm5\n",
      "\tvmovups\t32(%rsi), %xmm3\n",
      "\tvinsertf128\t$1, %xmm5, %ymm4, %ymm4\n",
      "\tvaddps\t%ymm2, %ymm4, %ymm2\n",
      "\tvextractf128\t$1, %ymm2, %xmm4\n",
      "\tvinsertf128\t$1, %xmm1, %ymm0, %ymm0\n",
      "\tvinsertf128\t$1, 48(%rsi), %ymm3, %ymm5\n",
      "\tvmovups\t80(%rsi), %xmm1\n",
      "\tvmovups\t64(%rsi), %xmm3\n",
      "\tvmovups\t80(%rdx), %xmm6\n",
      "\tvmovups\t64(%rdx), %xmm7\n",
      "\tmovq\t%r9, %rdx\n",
      "\tsubq\t%rax, %rdx\n",
      "\tvmovups\t%xmm4, 16(%rdx)\n",
      "\tvmovups\t%xmm2, (%rdx)\n",
      "\tvaddps\t%ymm0, %ymm5, %ymm0\n",
      "\tvinsertf128\t$1, %xmm6, %ymm7, %ymm2\n",
      "\tvinsertf128\t$1, %xmm1, %ymm3, %ymm1\n",
      "\tvaddps\t%ymm2, %ymm1, %ymm1\n",
      "\tvextractf128\t$1, %ymm1, %xmm2\n",
      "\tvextractf128\t$1, %ymm0, %xmm3\n",
      "\taddq\t$-24, %rbx\n",
      "\tcmpq\t%rbx, %rdi\n",
      "\tvmovups\t%xmm3, 48(%rdx)\n",
      "\tvmovups\t%xmm0, 32(%rdx)\n",
      "\tvmovups\t%xmm2, 80(%rdx)\n",
      "\tvmovups\t%xmm1, 64(%rdx)\n",
      "\tjne\tL253\n",
      "L441:\tsubq\t%r8, %rcx\n",
      "\tje\tL495\n",
      "Source line: 75\n",
      "\tleaq\t(%r11,%r8,4), %rsi\n",
      "\tleaq\t(%r10,%r8,4), %rax\n",
      "\tleaq\t(%r9,%r8,4), %rdx\n",
      "Source line: 4\n",
      "L462:\tvmovss\t(%rsi), %xmm0\n",
      "\tvaddss\t(%rax), %xmm0, %xmm0\n",
      "\tvmovss\t%xmm0, (%rdx)\n",
      "Source line: 75\n",
      "\taddq\t$4, %rsi\n",
      "\taddq\t$4, %rax\n",
      "\taddq\t$4, %rdx\n",
      "\tdecq\t%rcx\n",
      "\tjne\tL462\n",
      "Source line: 84\n",
      "L495:\tmovq\t-40(%rbp), %rax\n",
      "\tmovabsq\t$jl_pgcstack, %rcx\n",
      "\tmovq\t%rax, (%rcx)\n",
      "\tmovabsq\t$4373872656, %rax       ## imm = 0x104B40010\n",
      "\taddq\t$32, %rsp\n",
      "\tpopq\t%rbx\n",
      "\tpopq\t%r14\n",
      "\tpopq\t%rbp\n",
      "\tvzeroupper\n",
      "\tret\n",
      "Source line: 67\n",
      "L534:\tmovabsq\t$jl_overflow_exception, %rax\n",
      "\tmovq\t(%rax), %rdi\n",
      "\tmovabsq\t$jl_throw_with_superfluous_argument, %rax\n",
      "\tmovl\t$67, %esi\n",
      "\tcallq\t*%rax\n"
     ]
    }
   ],
   "source": [
    "data = rand(Float32,10)\n",
    "@code_native f(data,data)"
   ]
  },
  {
   "cell_type": "code",
   "execution_count": 31,
   "metadata": {
    "collapsed": false
   },
   "outputs": [
    {
     "data": {
      "text/plain": [
       "mysum2 (generic function with 1 method)"
      ]
     },
     "execution_count": 31,
     "metadata": {},
     "output_type": "execute_result"
    }
   ],
   "source": [
    "function mysum2(a,b)\n",
    "    r = 0\n",
    "    r += a\n",
    "    r += b\n",
    "    r += 1\n",
    "    r\n",
    "end"
   ]
  },
  {
   "cell_type": "code",
   "execution_count": 32,
   "metadata": {
    "collapsed": false
   },
   "outputs": [
    {
     "name": "stdout",
     "output_type": "stream",
     "text": [
      "Variables:\n",
      "  a::Int64\n",
      "  b::Float64\n",
      "  r::ANY\n",
      "\n",
      "Body:\n",
      "  begin  # In[31], line 2:\n",
      "      r = 0 # line 3:\n",
      "      r = (top(box))(Int64,(top(add_int))(r::Int64,a::Int64)) # line 4:\n",
      "      r = (top(box))(Float64,(top(add_float))((top(box))(Float64,(top(sitofp))(Float64,r::Int64)),b::Float64)) # line 5:\n",
      "      r = (top(box))(Float64,(top(add_float))(r::Float64,(top(box))(Float64,(top(sitofp))(Float64,1)))) # line 6:\n",
      "      return r::Float64\n",
      "  end::Float64\n"
     ]
    }
   ],
   "source": [
    "@code_warntype mysum2(1,1.5)"
   ]
  },
  {
   "cell_type": "markdown",
   "metadata": {},
   "source": [
    "# Parallel computing"
   ]
  },
  {
   "cell_type": "code",
   "execution_count": 107,
   "metadata": {
    "collapsed": false
   },
   "outputs": [
    {
     "data": {
      "text/plain": [
       "3-element Array{Int64,1}:\n",
       " 5\n",
       " 6\n",
       " 7"
      ]
     },
     "execution_count": 107,
     "metadata": {},
     "output_type": "execute_result"
    }
   ],
   "source": [
    "addprocs(3)"
   ]
  },
  {
   "cell_type": "code",
   "execution_count": 109,
   "metadata": {
    "collapsed": false
   },
   "outputs": [
    {
     "data": {
      "text/plain": [
       "6-element Array{Int64,1}:\n",
       " 2\n",
       " 3\n",
       " 4\n",
       " 5\n",
       " 6\n",
       " 7"
      ]
     },
     "execution_count": 109,
     "metadata": {},
     "output_type": "execute_result"
    }
   ],
   "source": [
    "workers()"
   ]
  },
  {
   "cell_type": "code",
   "execution_count": 47,
   "metadata": {
    "collapsed": false
   },
   "outputs": [
    {
     "name": "stdout",
     "output_type": "stream",
     "text": [
      "   1.515 seconds      (331 allocations: 74823 KB, 5.17% gc time)\n"
     ]
    }
   ],
   "source": [
    "@time map(x->svd(rand(1000,x)),200:210);"
   ]
  },
  {
   "cell_type": "code",
   "execution_count": 48,
   "metadata": {
    "collapsed": false
   },
   "outputs": [
    {
     "name": "stdout",
     "output_type": "stream",
     "text": [
      " 634.842 milliseconds (4456 allocations: 21492 KB, 0.22% gc time)\n"
     ]
    }
   ],
   "source": [
    "@time pmap(x->svd(rand(1000,x)), 200:210);"
   ]
  },
  {
   "cell_type": "code",
   "execution_count": 113,
   "metadata": {
    "collapsed": false
   },
   "outputs": [
    {
     "data": {
      "text/plain": [
       "2"
      ]
     },
     "execution_count": 113,
     "metadata": {},
     "output_type": "execute_result"
    }
   ],
   "source": [
    "r = @fetch 1+1"
   ]
  },
  {
   "cell_type": "code",
   "execution_count": 112,
   "metadata": {
    "collapsed": false
   },
   "outputs": [
    {
     "data": {
      "text/plain": [
       "2"
      ]
     },
     "execution_count": 112,
     "metadata": {},
     "output_type": "execute_result"
    }
   ],
   "source": [
    "fetch(r)"
   ]
  }
 ],
 "metadata": {
  "kernelspec": {
   "display_name": "Julia 0.4.0-dev",
   "language": "julia",
   "name": "julia-0.4"
  },
  "language_info": {
   "name": "julia",
   "version": "0.4.0"
  }
 },
 "nbformat": 4,
 "nbformat_minor": 0
}
